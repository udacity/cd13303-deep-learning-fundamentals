{
  "cells": [
    {
      "cell_type": "markdown",
      "metadata": {},
      "source": [
        "# Exercise 1: Classification of handwritten digits using an MLP\n",
        "\n",
        "In this exercise, you will train a multi-layer perceptron (MLP) to classify handwritten digits from the MNIST dataset. The MNIST dataset consists of 28x28 grayscale images of handwritten digits (0 to 9). The task is to classify each image into one of the 10 classes (one for each digit).\n",
        "\n",
        "For this exercise, you will not need to write any code. All you need to do is follow along!"
      ]
    },
    {
      "cell_type": "markdown",
      "metadata": {},
      "source": [
        "## Step 1: Load the dataset\n",
        "\n",
        "We obtain the MNIST dataset using scikit-learn."
      ]
    },
    {
      "cell_type": "code",
      "execution_count": null,
      "metadata": {},
      "outputs": [],
      "source": [
        "# Load MNIST using sklearn.datasets.fetch_openml\n",
        "\n",
        "import matplotlib.pyplot as plt\n",
        "import numpy as np\n",
        "from sklearn.datasets import fetch_openml\n",
        "\n",
        "# Load data from https://www.openml.org/d/554\n",
        "X, y = fetch_openml(\"mnist_784\", version=1, return_X_y=True, parser=\"auto\")\n",
        "\n",
        "# Split into train and test\n",
        "X_train, X_test = X[:60000], X[60000:]\n",
        "y_train, y_test = y[:60000], y[60000:]\n",
        "print(f\"Training set size: {len(X_train)}\")\n",
        "print(f\"Test set size: {len(X_test)}\")\n",
        "\n",
        "# Convert to numpy arrays and scale for the model\n",
        "X_train = np.array(X_train) / 255\n",
        "X_test = np.array(X_test) / 255\n",
        "y_train = np.array(y_train, dtype=np.int8)\n",
        "y_test = np.array(y_test, dtype=np.int8)\n",
        "\n",
        "# Show the first 3 images\n",
        "plt.figure(figsize=(20, 4))\n",
        "for index, (image, label) in enumerate(zip(X_train[0:3], y_train[0:3])):\n",
        "    plt.subplot(1, 3, index + 1)\n",
        "    plt.imshow(np.reshape(image, (28, 28)), cmap=plt.cm.gray)\n",
        "    plt.title(\"Label: %s\\n\" % label, fontsize=20)"
      ]
    },
    {
      "cell_type": "markdown",
      "metadata": {},
      "source": [
        "## Step 2: Create and train a Multi-Layer Perceptron\n",
        "\n",
        "We will use `sklearn.neural_network` to build a Multi-Layer Perceptron in a single command. We'll train it using a second command!"
      ]
    },
    {
      "cell_type": "code",
      "execution_count": null,
      "metadata": {},
      "outputs": [],
      "source": [
        "# Train an MLP classifier using sklearn.neural_network.MLPClassifier\n",
        "\n",
        "from sklearn.neural_network import MLPClassifier\n",
        "\n",
        "# Create an MLPClassifier object\n",
        "mlp = MLPClassifier(\n",
        "    hidden_layer_sizes=(50,),\n",
        "    max_iter=10,\n",
        "    alpha=1e-4,\n",
        "    solver=\"sgd\",\n",
        "    verbose=10,\n",
        "    random_state=1,\n",
        "    learning_rate_init=0.1,\n",
        ")\n",
        "\n",
        "\n",
        "# Train the MLPClassifier\n",
        "mlp.fit(X_train, y_train)"
      ]
    },
    {
      "cell_type": "markdown",
      "metadata": {},
      "source": [
        "## Step 3: Evaluate the model on a hold-out dataset\n",
        "\n",
        "We will assess the performance of the model on data that was not used for training. In this case, we had separated out data into training and test splits, so we will show the accuracy for each."
      ]
    },
    {
      "cell_type": "code",
      "execution_count": null,
      "metadata": {},
      "outputs": [],
      "source": [
        "# Show the accuracy on the training and test sets\n",
        "\n",
        "print(f\"Training set score: {mlp.score(X_train, y_train)}\")\n",
        "print(f\"Test set score: {mlp.score(X_test, y_test)}\")"
      ]
    },
    {
      "cell_type": "markdown",
      "metadata": {},
      "source": [
        "Lastly, even though metrics are important to look it, it's always a good idea to look directly at your data to catch any problems or bugs you might have missed."
      ]
    },
    {
      "cell_type": "code",
      "execution_count": null,
      "metadata": {},
      "outputs": [],
      "source": [
        "# Show the images, predictions, and original labels for 10 images\n",
        "\n",
        "# Get the predictions for the test dataset\n",
        "predictions = mlp.predict(X_test)\n",
        "\n",
        "# Show the predictions in a grid\n",
        "plt.figure(figsize=(8, 4))\n",
        "\n",
        "for index, (image, prediction, label) in enumerate(\n",
        "    zip(X_test[0:10], predictions[0:10], y_test[0:10])\n",
        "):\n",
        "    plt.subplot(2, 5, index + 1)\n",
        "    plt.imshow(np.reshape(image, (28, 28)), cmap=plt.cm.gray)\n",
        "\n",
        "    # Green if correct, red if incorrect\n",
        "    fontcolor = \"g\" if prediction == label else \"r\"\n",
        "    plt.title(\n",
        "        \"Prediction: %i\\n Label: %i\" % (prediction, label), fontsize=10, color=fontcolor\n",
        "    )\n",
        "\n",
        "    plt.axis(\"off\")  # hide axes"
      ]
    }
  ],
  "metadata": {
    "kernelspec": {
      "display_name": "Python 3 (ipykernel)",
      "language": "python",
      "name": "python3"
    },
    "language_info": {
      "codemirror_mode": {
        "name": "ipython",
        "version": 3
      },
      "file_extension": ".py",
      "mimetype": "text/x-python",
      "name": "python",
      "nbconvert_exporter": "python",
      "pygments_lexer": "ipython3",
      "version": "3.10.11"
    }
  },
  "nbformat": 4,
  "nbformat_minor": 4
}
